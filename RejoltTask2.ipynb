{
 "cells": [
  {
   "cell_type": "code",
   "execution_count": 1,
   "id": "73404b1a-eae1-4bdd-89c7-6b515e440626",
   "metadata": {},
   "outputs": [
    {
     "name": "stdout",
     "output_type": "stream",
     "text": [
      "                         Item    Form  RetailPrice RetailPriceUnit   Yield  \\\n",
      "0                Acorn squash   Fresh       1.1804       per pound  0.4586   \n",
      "1                      Apples   Fresh       1.5193       per pound  0.9000   \n",
      "2          Apples, applesauce  Canned       1.0660       per pound  1.0000   \n",
      "3  Apples, frozen concentrate   Juice       0.5853        per pint  1.0000   \n",
      "4      Apples, ready-to-drink   Juice       0.7804        per pint  1.0000   \n",
      "\n",
      "   CupEquivalentSize CupEquivalentUnit  CupEquivalentPrice  \n",
      "0             0.4519            pounds              1.1633  \n",
      "1             0.2425            pounds              0.4094  \n",
      "2             0.5401            pounds              0.5758  \n",
      "3             8.0000      fluid ounces              0.2926  \n",
      "4             8.0000      fluid ounces              0.3902  \n",
      "                         Item    Form  RetailPrice RetailPriceUnit   Yield  \\\n",
      "0                Acorn squash   Fresh       1.1804       per pound  0.4586   \n",
      "1                      Apples   Fresh       1.5193       per pound  0.9000   \n",
      "2          Apples, applesauce  Canned       1.0660       per pound  1.0000   \n",
      "3  Apples, frozen concentrate   Juice       0.5853        per pint  1.0000   \n",
      "4      Apples, ready-to-drink   Juice       0.7804        per pint  1.0000   \n",
      "\n",
      "   CupEquivalentSize CupEquivalentUnit  CupEquivalentPrice  \n",
      "0             0.4519            pounds              1.1633  \n",
      "1             0.2425            pounds              0.4094  \n",
      "2             0.5401            pounds              0.5758  \n",
      "3             8.0000      fluid ounces              0.2926  \n",
      "4             8.0000      fluid ounces              0.3902  \n",
      "Yield: $143.59969999999998\n"
     ]
    }
   ],
   "source": [
    "import pandas as pd\n",
    "data = pd.read_csv('Prices.csv')\n",
    "print(data.head())\n",
    "print(data.head())\n",
    "Yield = data['Yield'].sum()\n",
    "print(f\"Yield: ${Yield}\")"
   ]
  }
 ],
 "metadata": {
  "kernelspec": {
   "display_name": "Python 3 (ipykernel)",
   "language": "python",
   "name": "python3"
  },
  "language_info": {
   "codemirror_mode": {
    "name": "ipython",
    "version": 3
   },
   "file_extension": ".py",
   "mimetype": "text/x-python",
   "name": "python",
   "nbconvert_exporter": "python",
   "pygments_lexer": "ipython3",
   "version": "3.12.0"
  }
 },
 "nbformat": 4,
 "nbformat_minor": 5
}
